{
 "cells": [
  {
   "cell_type": "markdown",
   "id": "c0b1f12c-9cdc-4e68-bd2e-3002e4ac1adc",
   "metadata": {},
   "source": [
    "# Data Science Tools and Ecosystem"
   ]
  },
  {
   "cell_type": "markdown",
   "id": "93922d0e-1326-4fff-aaa5-d68eb953b9e7",
   "metadata": {},
   "source": [
    "In this notebook, Data Science Tools and Ecosystem are summarized."
   ]
  },
  {
   "cell_type": "markdown",
   "id": "559ce863-0947-4422-89b7-59c12c9a42e9",
   "metadata": {},
   "source": [
    "Objectives:\n",
    "- List popular languages for Data Science\n",
    "- Identify key roles in Data science\n",
    "- Know the libraries used in Data Science\n",
    "- Learn about the tools used in Data Science "
   ]
  },
  {
   "cell_type": "markdown",
   "id": "d6680ebf-fc97-41a8-b44e-a13f5fdb78e5",
   "metadata": {},
   "source": [
    "Some of the popular languages that Data Scientists use are:\n",
    "1. Python\n",
    "2. SQL\n",
    "3. R"
   ]
  },
  {
   "cell_type": "markdown",
   "id": "49f0d313-bdb9-4dfe-aae2-8953bd809cc8",
   "metadata": {},
   "source": [
    "Some of the commonly used libraries used by Data Scientists include:\n",
    "1. Pandas in Python\n",
    "2. ggplot in R\n",
    "3. Spark in Apache Spark"
   ]
  },
  {
   "cell_type": "markdown",
   "id": "7372c218-edf4-47e8-843a-077d51b34e0d",
   "metadata": {},
   "source": [
    "| **Data Science Tools** |\n",
    "| ----- |\n",
    "| R Studio |\n",
    "| Jupyter |\n",
    "| Git / Github |"
   ]
  },
  {
   "cell_type": "markdown",
   "id": "737940c8-54f8-4f76-84ab-49f63353e762",
   "metadata": {},
   "source": [
    "### Below are a few examples of evaluating arithmetic expressions in Python"
   ]
  },
  {
   "cell_type": "code",
   "execution_count": 4,
   "id": "bca1c919-c094-45b0-bc9b-026996cb0726",
   "metadata": {},
   "outputs": [
    {
     "data": {
      "text/plain": [
       "17"
      ]
     },
     "execution_count": 4,
     "metadata": {},
     "output_type": "execute_result"
    }
   ],
   "source": [
    "#This a simple arithmetic expression to multiply then add integers\n",
    "(3*4)+5"
   ]
  },
  {
   "cell_type": "code",
   "execution_count": 5,
   "id": "1c1a400c-6316-4124-9046-1d4309499002",
   "metadata": {},
   "outputs": [
    {
     "data": {
      "text/plain": [
       "3.3333333333333335"
      ]
     },
     "execution_count": 5,
     "metadata": {},
     "output_type": "execute_result"
    }
   ],
   "source": [
    " #This will convert 200 minutes to hours by diving by 60\n",
    "200/60"
   ]
  },
  {
   "cell_type": "markdown",
   "id": "f1b10065-3099-495c-9543-501626faae52",
   "metadata": {},
   "source": [
    "## Author \n",
    "Eze-Emiri CN"
   ]
  }
 ],
 "metadata": {
  "kernelspec": {
   "display_name": "Python 3 (ipykernel)",
   "language": "python",
   "name": "python3"
  },
  "language_info": {
   "codemirror_mode": {
    "name": "ipython",
    "version": 3
   },
   "file_extension": ".py",
   "mimetype": "text/x-python",
   "name": "python",
   "nbconvert_exporter": "python",
   "pygments_lexer": "ipython3",
   "version": "3.11.9"
  }
 },
 "nbformat": 4,
 "nbformat_minor": 5
}
